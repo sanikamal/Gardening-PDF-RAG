{
 "cells": [
  {
   "cell_type": "markdown",
   "metadata": {},
   "source": [
    "# RAG with PDF Documents 📄\n",
    "\n",
    "Build a Retrieval-Augmented Generation (RAG) system that processes PDF documents, using LangChain, ChromaDB, and Gradio to build an interactive question-answering interface.\n",
    "\n",
    "## Content 📚\n",
    "\n",
    "- Use **LangChain** for building RAG pipelines 🔧.\n",
    "- Manage and query document embeddings using **ChromaDB** 🔍.\n",
    "- Build an interactive user interface for querying documents using **Gradio** 🖥️.\n"
   ]
  },
  {
   "cell_type": "code",
   "execution_count": 3,
   "metadata": {
    "height": 251
   },
   "outputs": [],
   "source": [
    "import os\n",
    "import glob\n",
    "import shutil\n",
    "import gradio as gr\n",
    "\n",
    "from langchain.prompts import PromptTemplate\n",
    "from langchain_community.vectorstores import Chroma\n",
    "from langchain_core.runnables import RunnablePassthrough\n",
    "from langchain_core.output_parsers import StrOutputParser\n",
    "from langchain_openai import OpenAIEmbeddings, ChatOpenAI\n",
    "from langchain_community.document_loaders import PyPDFLoader\n",
    "from langchain.text_splitter import RecursiveCharacterTextSplitter\n",
    "\n",
    "from dotenv import load_dotenv, find_dotenv"
   ]
  },
  {
   "cell_type": "markdown",
   "metadata": {},
   "source": [
    "## Setting Up the Environment\n",
    "\n",
    "In this step, we ensure that the required environment variables are properly loaded for the lab.\n",
    "\n",
    "### Key Points:\n",
    "- The `dotenv` library is used to load environment variables from a `.env` file.\n",
    "- The code checks if the `OPENAI_API_KEY` is set, which is required for accessing OpenAI's API.\n",
    "- If the API key is found, a confirmation message is printed."
   ]
  },
  {
   "cell_type": "code",
   "execution_count": 4,
   "metadata": {
    "height": 81
   },
   "outputs": [
    {
     "name": "stdout",
     "output_type": "stream",
     "text": [
      "OpenAI API key found!\n"
     ]
    }
   ],
   "source": [
    "_ = load_dotenv(find_dotenv())\n",
    "\n",
    "if os.getenv(\"OPENAI_API_KEY\"):\n",
    "\tprint(\"OpenAI API key found!\")"
   ]
  },
  {
   "cell_type": "markdown",
   "metadata": {},
   "source": [
    "## Defining Global Variables\n",
    "\n",
    "This cell sets up important global variables that will be used throughout the lab:\n",
    "\n",
    "- **`PDF_DOCS_PATH`**: Specifies the path to the directory containing the PDF documents.\n",
    "\n",
    "- **`EMBEDDINGS`**: Initializes the embeddings model using OpenAI's embeddings."
   ]
  },
  {
   "cell_type": "code",
   "execution_count": 5,
   "metadata": {
    "height": 64
   },
   "outputs": [],
   "source": [
    "PDF_DOCS_PATH = \"./docs\"\n",
    "\n",
    "EMBEDDINGS = OpenAIEmbeddings()"
   ]
  },
  {
   "cell_type": "markdown",
   "metadata": {},
   "source": [
    "## Listing PDF Files\n",
    "\n",
    "This cell retrieves all PDF files from the specified directory:\n",
    "\n",
    "- **`glob.glob`**: Searches for files matching the `.pdf` pattern in the directory defined by `PDF_DOCS_PATH`.\n",
    "\n",
    "- The resulting list, `pdf_files`, contains the paths of all PDF documents found.\n",
    "\n",
    "The output displays the identified PDF files, which will be processed in subsequent steps.\n"
   ]
  },
  {
   "cell_type": "code",
   "execution_count": 6,
   "metadata": {
    "height": 81
   },
   "outputs": [
    {
     "data": {
      "text/plain": [
       "['./docs/C1M1_scripts.pdf',\n",
       " './docs/C1M2_scripts.pdf',\n",
       " './docs/C1M3_scripts.pdf',\n",
       " './docs/C1M4_scripts.pdf',\n",
       " './docs/C2M1_scripts.pdf',\n",
       " './docs/C2M2_scripts.pdf',\n",
       " './docs/C2M3_scripts.pdf',\n",
       " './docs/C2M4_scripts.pdf',\n",
       " './docs/C3M1_scripts.pdf',\n",
       " './docs/C3M2_scripts.pdf',\n",
       " './docs/C3M3_scripts.pdf',\n",
       " './docs/Technical-Gardening-Manual-FINAL.pdf']"
      ]
     },
     "execution_count": 6,
     "metadata": {},
     "output_type": "execute_result"
    }
   ],
   "source": [
    "# Get all .pdf files in the base directory and its subdirectories\n",
    "pdf_files = glob.glob(os.path.join(PDF_DOCS_PATH, \"*.pdf\"))\n",
    "\n",
    "pdf_files"
   ]
  },
  {
   "cell_type": "markdown",
   "metadata": {},
   "source": [
    "In this case you will be working with a gardening manual provided by [High Rocks](https://highrocks.org/). However, once you are done with this assignment you can reuse all of this code for your own documents, notice that the code above will locate all PDF files inside the `./docs/` directory which is super useful if you have more than one file."
   ]
  },
  {
   "cell_type": "markdown",
   "metadata": {},
   "source": [
    "## Helper Function: `clean_text`\n",
    "\n",
    "This pre-defined function is provided for your convenience and requires no additional modifications. It preprocesses text to ensure consistent formatting by:\n",
    "\n",
    "- Replacing newline characters (`\\n`) with spaces.\n",
    "- Removing extra spaces to create clean, well-structured text.\n",
    "\n",
    "You can directly use this function later in the lab for cleaning text extracted from the PDF documents.\n",
    "\n",
    "Whenever you are dealing with text you will usually encounter a function similar to this one which will help with the preprocessing to yield better results. This one is pretty basic but these kinds of functions can be done in any way required.\n"
   ]
  },
  {
   "cell_type": "code",
   "execution_count": 7,
   "metadata": {
    "height": 98
   },
   "outputs": [],
   "source": [
    "def clean_text(text: str) -> str:\n",
    "    # Replace '\\n' with spaces and remove multiple spaces\n",
    "    cleaned = \" \".join(text.split(\"\\n\"))  # Join on newlines first\n",
    "    cleaned = \" \".join(cleaned.split())  # Remove extra spaces\n",
    "    return cleaned"
   ]
  },
  {
   "cell_type": "markdown",
   "metadata": {},
   "source": [
    "## Implement the `load_pdf` Function\n",
    "\n",
    "Write a function to process and clean the content of a PDF document. The function should:\n",
    "\n",
    "1. Load the PDF file from the specified path.\n",
    "2. Extract the content of the document, processing each page individually.\n",
    "3. Use the `clean_text` helper function to ensure the text is properly formatted.\n",
    "\n",
    "### Hints:\n",
    "- Utilize [`PyPDFLoader`](https://python.langchain.com/docs/integrations/document_loaders/pypdfloader/) to handle the PDF loading.\n",
    "- Iterate through the documents to apply text cleaning.\n",
    "- Return the cleaned content in a format suitable for further processing.\n",
    "\n",
    "This function will be a foundational part of the pipeline for working with the PDF data. After completing this, if you wish to use this code for your own RAG pipelines you might opt to use a different loader depending on the format of your data. Langchain provides a bunch of loaders which you can check in the [docs](https://python.langchain.com/docs/how_to/#document-loaders) and cover formats such as HTML, JSON and CSV.\n"
   ]
  },
  {
   "cell_type": "code",
   "execution_count": 8,
   "metadata": {
    "height": 319
   },
   "outputs": [],
   "source": [
    "def load_pdf(pdf_path):\n",
    "\n",
    "\t# Use the PyPDFLoader by specifying the correct path\n",
    "\tloader = PyPDFLoader(pdf_path)\n",
    "\n",
    "\t# Use the load method from the loader to get the documents\n",
    "\tdocuments = loader.load()\n",
    "\n",
    "\t# Iterate over the documents\n",
    "\tfor document in documents:\n",
    "\t\t# Apply the clean_text function to the page_content attribute of each document\n",
    "\t\tdocument.page_content = clean_text(document.page_content)\n",
    "\n",
    "\treturn documents"
   ]
  },
  {
   "cell_type": "markdown",
   "metadata": {},
   "source": [
    "\n",
    "Now, the `load_pdf` function will be applied to all the PDF files, combining the cleaned content into a single list. In this case there is a single document so this process is quite fast but it might be slower depending on the amount and size of the files."
   ]
  },
  {
   "cell_type": "code",
   "execution_count": 9,
   "metadata": {
    "height": 64
   },
   "outputs": [
    {
     "name": "stdout",
     "output_type": "stream",
     "text": [
      "There are a total of 549 documents\n"
     ]
    }
   ],
   "source": [
    "docs = [doc for pdf in pdf_files for doc in load_pdf(pdf)]\n",
    "\n",
    "print(f\"There are a total of {len(docs)} documents\")"
   ]
  },
  {
   "cell_type": "markdown",
   "metadata": {},
   "source": [
    "## Implement the `split_documents` function\n",
    "\n",
    "Write a function to split the loaded document content into smaller chunks for easier processing. The function should:\n",
    "\n",
    "1. Use the `RecursiveCharacterTextSplitter` class to split the document content into chunks. You can read more about it [here](https://python.langchain.com/docs/how_to/recursive_text_splitter/#splitting-text-from-languages-without-word-boundaries).\n",
    "2. Adjust the chunk size and overlap to ensure that each chunk is appropriately sized while maintaining context between chunks.\n",
    "3. Return the resulting list of document splits.\n",
    "\n",
    "### Hints:\n",
    "- The `RecursiveCharacterTextSplitter` class allows you to configure how the text is split. You’ll need to adjust the following parameters:\n",
    "\n",
    "  - **`chunk_size`**: Set the maximum size of each chunk (use 1500 characters for this exercise).\n",
    "\n",
    "  - **`chunk_overlap`**: Define the number of characters to overlap between chunks (use 150 characters for this exercise).\n",
    "  - **`separators`**: Specify the separators that should be used to break the text into chunks. These can include sentence-ending punctuation or newlines. These are already provided.\n",
    "  - **`keep_separator`**: Set to `True` to retain the separator in the split text.\n",
    "\n",
    "- To perform the actual splitting you need to use the [`split_documents`](https://python.langchain.com/api_reference/text_splitters/character/langchain_text_splitters.character.RecursiveCharacterTextSplitter.html#langchain_text_splitters.character.RecursiveCharacterTextSplitter.split_documents) method from `RecursiveCharacterTextSplitter`.\n",
    "\n",
    "\n",
    "This function will help break down long documents into manageable pieces that are suitable for embedding and processing.\n"
   ]
  },
  {
   "cell_type": "code",
   "execution_count": 11,
   "metadata": {
    "height": 319
   },
   "outputs": [],
   "source": [
    "def split_docs(docs):\n",
    "\n",
    "\t### START CODE HERE ###\n",
    "\n",
    "\t# Instantiate the RecursiveCharacterTextSplitter class with the appropriate parameters\n",
    "\ttext_splitter = RecursiveCharacterTextSplitter( \n",
    "\t\tchunk_size=1500,\n",
    "\t\tchunk_overlap=150,\n",
    "\t\tseparators=[\". \", \"? \", \"! \", \"\\n\\n\", \"\\n\", \" \", \"\"], \n",
    "\t\tkeep_separator=True,\n",
    "\t)\n",
    "\n",
    "\t# Use the splitter to split the documents (use the split_documents method)\n",
    "\tsplits = text_splitter.split_documents(docs)\n",
    "\n",
    "\t### END CODE HERE ###\n",
    "\n",
    "\treturn splits"
   ]
  },
  {
   "cell_type": "markdown",
   "metadata": {},
   "source": [
    "Now apply the splitting function to the actual documents:"
   ]
  },
  {
   "cell_type": "code",
   "execution_count": 12,
   "metadata": {
    "height": 64
   },
   "outputs": [
    {
     "name": "stdout",
     "output_type": "stream",
     "text": [
      "There are a total of 1091 documents after splitting\n"
     ]
    }
   ],
   "source": [
    "splitted_docs = split_docs(docs)\n",
    "\n",
    "print(f\"There are a total of {len(splitted_docs)} documents after splitting\")"
   ]
  },
  {
   "cell_type": "markdown",
   "metadata": {},
   "source": [
    "## Implement the `setup_vectordb` function\n",
    "\n",
    "Write a function to set up a vector database for efficient document retrieval. The function should:\n",
    "\n",
    "1. Use the `Chroma.from_documents` method to create a vector database from the split documents.\n",
    "2. Embed the documents using the specified embeddings model.\n",
    "3. Store the vector database in the specified directory for persistent storage.\n",
    "\n",
    "### Hints:\n",
    "\n",
    "- The method accepts three parameters:\n",
    "\n",
    "  - **`splits`**: The list of document splits to be embedded.\n",
    "  \n",
    "  - **`embeddings`**: The embeddings model used to convert documents into vectors. Here you can use the global variable for embeddings defined earlier.\n",
    "  - **`db_docs_path`**: The directory where the vector database will be stored. The default is `db/chroma/`. Use the provided parameter `db_docs_path` to ensure a proper grading.\n",
    "\n",
    "\n",
    "This function sets up the vector database that will be used for document retrieval in subsequent steps.\n"
   ]
  },
  {
   "cell_type": "code",
   "execution_count": 14,
   "metadata": {
    "height": 336
   },
   "outputs": [],
   "source": [
    "def setup_vectordb(splitted_docs, db_docs_path=\"db/chroma/\"):\n",
    "\n",
    "\t# Delete the in-memory directory that will hold the data\n",
    "\t# This is done in case you run this function multiple times to avoid duplicated documents\n",
    "\tif os.path.exists(db_docs_path) and os.path.isdir(db_docs_path):\n",
    "\t\tshutil.rmtree(db_docs_path)\n",
    "\n",
    "\t### START CODE HERE ###\n",
    "\n",
    "\t# Create an instance of the vector database\n",
    "\tvectordb = Chroma.from_documents( \n",
    "\t\tdocuments=splitted_docs,\n",
    "\t\tembedding=EMBEDDINGS,\n",
    "\t\tpersist_directory=db_docs_path,\n",
    "\t)\n",
    "\n",
    "\t### END CODE HERE ###\n",
    "\n",
    "\treturn vectordb"
   ]
  },
  {
   "cell_type": "markdown",
   "metadata": {},
   "source": [
    "Now run the function to create the vector database that contains the post-splitting documents:"
   ]
  },
  {
   "cell_type": "code",
   "execution_count": 15,
   "metadata": {
    "height": 115
   },
   "outputs": [
    {
     "name": "stdout",
     "output_type": "stream",
     "text": [
      "Successfully created the vector database!\n"
     ]
    }
   ],
   "source": [
    "DATABASE = setup_vectordb(splitted_docs)\n",
    "\n",
    "if os.path.exists(\"./db/chroma/\"):\n",
    "\tprint(\"Successfully created the vector database!\")\n",
    "else:\n",
    "\tprint(\"The directory to store the vector database was not created, double check your code.\")"
   ]
  },
  {
   "cell_type": "markdown",
   "metadata": {},
   "source": [
    "Now try asking the database to retrieve the top k (5 in this case) documents given a question. You might get duplicated results but that is ok!"
   ]
  },
  {
   "cell_type": "code",
   "execution_count": 17,
   "metadata": {
    "height": 98
   },
   "outputs": [
    {
     "name": "stdout",
     "output_type": "stream",
     "text": [
      "page_content='32 Tomatoes... It’s difficult to imagine a complete garden without them. And in the kitchen, they’re a favorite--a rich, versatile vegetable that is equally at home in nutritious salad or on a satisfying burger. And yet when you’re growing them, tomatoes can often be problematic. Their culinary versatility also translate into their growing habits as well, as they show a willingness to grow however they please, seeming to defy both gravity and the nearness of your garden plot. Biologically, your tomato plants want to mature and spread their seeds, dropping the tomatoes to the earth, so gardeners often seek out ways to elevate their tomatoes. Other reasons to support your tomatoes include: • Your tomatoes are less prone to insect and disease damage. If you choose to support your tomatoes, then you’ve got another problem: What option to do you choose? Do you follow in the footsteps of your grandfather and create a cage for your tomatoes? Do you stake them? • Your tomatoes stay dirt-free. • Your tomatoes are easier to monitor and harvest. the florida weave' metadata={'page': 32, 'source': './docs/Technical-Gardening-Manual-FINAL.pdf'}\n",
      "page_content='3 Gardening is easy, right? All you do is measure some rows, till the earth, and plant your seeds. From there, your garden will grow on its while you sit back and relax... Right? Wrong. Like all worthwhile pursuits, gardening requires devotion and routine maintenance. Your heirloom tomatoes can indeed blossom from A all the way to Z, but they will need your help getting there, as you water and perhaps trellis them along their path to ripeness. Yes, the seeds you’ve sown today will need attention tomorrow.... And the tomorrow after that, all the way to harvest time. And before we can consider tomorrow’s work, we have to consider yesterday’s. PLANTING CONSIDERATIONS PREVENTATIVE MEASURES Often, the best way to solve a problem is by ensuring that it never happens. Of course, an incredible cook can salvage a cooking fiasco without the perfect ingredients or tools, but just imagine how much tastier the dish would be if all the right pieces had been in the kitchen all along. The same applies to gardening, where the earth is your kitchen. Here’s what you can do in the early stages of gardening to ensure that you don’t end up with a fiasco months down the road.' metadata={'page': 3, 'source': './docs/Technical-Gardening-Manual-FINAL.pdf'}\n",
      "page_content='33 While none of your options are necessarily bad and everything has its place, based on the particulars of your operation, we at Grow Appalachia recommend the Florida Weave method of tomato trellising. This method appeals to growers because it’s inexpensive and it works. HOW IT WORKS One thing that you need to keep in mind is that you want to do the trellising process pretty early on, before your plants are more than a couple of feet tall. If you try the Florida Weave method later than this, you run the risk of stalking your roots and traumatizing your plants, and it will be difficult to work around the tangled vegetation. You’ll begin by taking stakes around 8 feet tall and driving them a foot into the ground between every few plants. Next, you will want to take some twine, preferably something that’s not too elastic, and tie it to one of the stakes about 8-inches high. After that, you can weave the twine in-and-out of the plants then wrap it around the other stake before returning to weave the other side to tie off your twice, which should be fairly taut. This alternating weaving pattern will ensure that your tomatoes stay supported in all sorts of inclement weather. Just add more twine with every six inches of growth, keeping the plants supported. Once the season’s over, your system can even be recycled, if you’re extra careful about removing the twine and your stakes won’t interfere with your other projects. An aerial depiction of the Florida weave' metadata={'page': 33, 'source': './docs/Technical-Gardening-Manual-FINAL.pdf'}\n",
      "page_content='5 SOIL COLLECTION Depending on your extension agency, you might be able to collect the soil yourself and send it in. If you take this route, the best time to test is in October or November, leaving you time to make adjustments and plan for your spring garden. To collect the soil, you’ll need a trowel (or some other digging tool) and a bucket. You should dig out a hunk of soil about six inches deep. That hunk doesn’t really matter, so dump it somewhere. Now you’ll need to collect a profile slice of the dirt and toss it in the bucket. (This allows you to capture a picture of the whole root zone.) Repeat this process six more times throughout your garden and then mix all of those samples in your bucket. Finally, you can bag this concoction and ship it off for analysis. All you’ve got left to do is await the results and apply the recommended amendments. OTHER CONSIDERATIONS The results of your test will let you know what plants will naturally thrive in your garden, but that won’t be much of a hurdle with the right amendments. Other factors to consider when choosing the plants for your garden include: Seasonal Sensitivity - Some crops will thrive in the summer, while others can tolerate a little frost. (Other crops are perennials, which means you can plant them just once and harvest them yearly, or biennials, which take two years to grow.) Warm-season crops, which need high temperatures to make fruit, include corn, cucumbers, melons, peppers, snap beans, squash, and tomatoes' metadata={'page': 5, 'source': './docs/Technical-Gardening-Manual-FINAL.pdf'}\n",
      "page_content='8 zucchini. The take-away here is that you want to make sure that during your next growing season, each piece of soil is occupied by a new family, even if pests and diseases did no damage in the previous season. Final Considerations: *Make sure your plot is level and well-drained. You could try to observe it before you plant and see how swampy it gets during rainy weather. Avoid planting in those spots if possible. *Another observation strategy is to look where the weeds are most sturdy and rich. This area will also be conducive to the thriving of your plants. *Always keep something in the ground! This is called succession planting and requires that you understand the maturation dates of your plants so that you know when you’ll be planting new crops. For more information on the maturation dates your plants, contact your extension agency!' metadata={'page': 8, 'source': './docs/Technical-Gardening-Manual-FINAL.pdf'}\n"
     ]
    }
   ],
   "source": [
    "question = \"How can I plant tomatoes?\"\n",
    "retrieved_docs = DATABASE.similarity_search(question, k=5)\n",
    "\n",
    "for rd in retrieved_docs:\n",
    "\tprint(rd)"
   ]
  },
  {
   "cell_type": "markdown",
   "metadata": {},
   "source": [
    "## Helper Function: `format_docs`\n",
    "\n",
    "To be able to visualize the retrieved documents in a more organized manner, the `format_docs` function is provided. This function prints out some information about the documents such as their number, contents, document of origin and page:\n"
   ]
  },
  {
   "cell_type": "code",
   "execution_count": 18,
   "metadata": {
    "height": 302
   },
   "outputs": [],
   "source": [
    "def format_docs(docs):\n",
    "    results = []\n",
    "    for i, doc in enumerate(docs, 1):\n",
    "        source_path = doc.metadata.get(\"source\", \"Unknown\")\n",
    "        filename = (\n",
    "            os.path.basename(source_path) if source_path != \"Unknown\" else \"Unknown\"\n",
    "        )\n",
    "\n",
    "        result = (\n",
    "            f\"Result {i}:\\n\"\n",
    "            f\"{doc.page_content}\\n\\n\"\n",
    "            f\"Document: {filename}\\n\"\n",
    "            f\"Page: {doc.metadata.get('page', 'Unknown')}\"\n",
    "        )\n",
    "        results.append(result)\n",
    "\n",
    "    return \"\\n---\\n\".join(results)"
   ]
  },
  {
   "cell_type": "markdown",
   "metadata": {},
   "source": [
    "Try it out with the retrieved documents:"
   ]
  },
  {
   "cell_type": "code",
   "execution_count": 19,
   "metadata": {
    "height": 30
   },
   "outputs": [
    {
     "name": "stdout",
     "output_type": "stream",
     "text": [
      "Result 1:\n",
      "32 Tomatoes... It’s difficult to imagine a complete garden without them. And in the kitchen, they’re a favorite--a rich, versatile vegetable that is equally at home in nutritious salad or on a satisfying burger. And yet when you’re growing them, tomatoes can often be problematic. Their culinary versatility also translate into their growing habits as well, as they show a willingness to grow however they please, seeming to defy both gravity and the nearness of your garden plot. Biologically, your tomato plants want to mature and spread their seeds, dropping the tomatoes to the earth, so gardeners often seek out ways to elevate their tomatoes. Other reasons to support your tomatoes include: • Your tomatoes are less prone to insect and disease damage. If you choose to support your tomatoes, then you’ve got another problem: What option to do you choose? Do you follow in the footsteps of your grandfather and create a cage for your tomatoes? Do you stake them? • Your tomatoes stay dirt-free. • Your tomatoes are easier to monitor and harvest. the florida weave\n",
      "\n",
      "Document: Technical-Gardening-Manual-FINAL.pdf\n",
      "Page: 32\n",
      "---\n",
      "Result 2:\n",
      "3 Gardening is easy, right? All you do is measure some rows, till the earth, and plant your seeds. From there, your garden will grow on its while you sit back and relax... Right? Wrong. Like all worthwhile pursuits, gardening requires devotion and routine maintenance. Your heirloom tomatoes can indeed blossom from A all the way to Z, but they will need your help getting there, as you water and perhaps trellis them along their path to ripeness. Yes, the seeds you’ve sown today will need attention tomorrow.... And the tomorrow after that, all the way to harvest time. And before we can consider tomorrow’s work, we have to consider yesterday’s. PLANTING CONSIDERATIONS PREVENTATIVE MEASURES Often, the best way to solve a problem is by ensuring that it never happens. Of course, an incredible cook can salvage a cooking fiasco without the perfect ingredients or tools, but just imagine how much tastier the dish would be if all the right pieces had been in the kitchen all along. The same applies to gardening, where the earth is your kitchen. Here’s what you can do in the early stages of gardening to ensure that you don’t end up with a fiasco months down the road.\n",
      "\n",
      "Document: Technical-Gardening-Manual-FINAL.pdf\n",
      "Page: 3\n",
      "---\n",
      "Result 3:\n",
      "33 While none of your options are necessarily bad and everything has its place, based on the particulars of your operation, we at Grow Appalachia recommend the Florida Weave method of tomato trellising. This method appeals to growers because it’s inexpensive and it works. HOW IT WORKS One thing that you need to keep in mind is that you want to do the trellising process pretty early on, before your plants are more than a couple of feet tall. If you try the Florida Weave method later than this, you run the risk of stalking your roots and traumatizing your plants, and it will be difficult to work around the tangled vegetation. You’ll begin by taking stakes around 8 feet tall and driving them a foot into the ground between every few plants. Next, you will want to take some twine, preferably something that’s not too elastic, and tie it to one of the stakes about 8-inches high. After that, you can weave the twine in-and-out of the plants then wrap it around the other stake before returning to weave the other side to tie off your twice, which should be fairly taut. This alternating weaving pattern will ensure that your tomatoes stay supported in all sorts of inclement weather. Just add more twine with every six inches of growth, keeping the plants supported. Once the season’s over, your system can even be recycled, if you’re extra careful about removing the twine and your stakes won’t interfere with your other projects. An aerial depiction of the Florida weave\n",
      "\n",
      "Document: Technical-Gardening-Manual-FINAL.pdf\n",
      "Page: 33\n",
      "---\n",
      "Result 4:\n",
      "5 SOIL COLLECTION Depending on your extension agency, you might be able to collect the soil yourself and send it in. If you take this route, the best time to test is in October or November, leaving you time to make adjustments and plan for your spring garden. To collect the soil, you’ll need a trowel (or some other digging tool) and a bucket. You should dig out a hunk of soil about six inches deep. That hunk doesn’t really matter, so dump it somewhere. Now you’ll need to collect a profile slice of the dirt and toss it in the bucket. (This allows you to capture a picture of the whole root zone.) Repeat this process six more times throughout your garden and then mix all of those samples in your bucket. Finally, you can bag this concoction and ship it off for analysis. All you’ve got left to do is await the results and apply the recommended amendments. OTHER CONSIDERATIONS The results of your test will let you know what plants will naturally thrive in your garden, but that won’t be much of a hurdle with the right amendments. Other factors to consider when choosing the plants for your garden include: Seasonal Sensitivity - Some crops will thrive in the summer, while others can tolerate a little frost. (Other crops are perennials, which means you can plant them just once and harvest them yearly, or biennials, which take two years to grow.) Warm-season crops, which need high temperatures to make fruit, include corn, cucumbers, melons, peppers, snap beans, squash, and tomatoes\n",
      "\n",
      "Document: Technical-Gardening-Manual-FINAL.pdf\n",
      "Page: 5\n",
      "---\n",
      "Result 5:\n",
      "8 zucchini. The take-away here is that you want to make sure that during your next growing season, each piece of soil is occupied by a new family, even if pests and diseases did no damage in the previous season. Final Considerations: *Make sure your plot is level and well-drained. You could try to observe it before you plant and see how swampy it gets during rainy weather. Avoid planting in those spots if possible. *Another observation strategy is to look where the weeds are most sturdy and rich. This area will also be conducive to the thriving of your plants. *Always keep something in the ground! This is called succession planting and requires that you understand the maturation dates of your plants so that you know when you’ll be planting new crops. For more information on the maturation dates your plants, contact your extension agency!\n",
      "\n",
      "Document: Technical-Gardening-Manual-FINAL.pdf\n",
      "Page: 8\n"
     ]
    }
   ],
   "source": [
    "print(format_docs(retrieved_docs))"
   ]
  },
  {
   "cell_type": "markdown",
   "metadata": {},
   "source": [
    "## Implement the `process_query` function\n",
    "\n",
    "Ccomplete the logic for handling user queries in a retrieval-augmented generation (RAG) pipeline.\n",
    "\n",
    "1. Initialize a language model (LLM) for generating responses.\n",
    "\n",
    "2. Define a custom prompt template to ensure detailed, thorough answers.\n",
    "\n",
    "\n",
    "### Hints:\n",
    "- Use **`PromptTemplate.from_template`** to convert the provided template into a prompt object.\n",
    "- Retrieve the source documents:\n",
    "  - Use the **`as_retriever`** method on `DATABASE` to set up a retriever.\n",
    "  - Invoke the retriever with the given question to get the relevant documents.\n",
    "  - Use the `format_docs` helper function to process and format the retrieved documents.\n",
    "- Set up the QA pipeline:\n",
    "  - Define a chain where:\n",
    "    - **Context** is set to the retriever output.\n",
    "    - **Question** is directly passed through with `RunnablePassthrough`.\n",
    "    - **Prompt** is piped into the QA chain.\n",
    "    - **LLM** processes the prompt.\n",
    "    - **StrOutputParser** is used to parse the LLM's output.\n",
    "  - Use the `invoke` method on the QA chain to generate the LLM's response.\n",
    "\n",
    "This task will test your ability to integrate multiple components in the RAG pipeline effectively. For more info be sure to check the [docs](# https://python.langchain.com/docs/how_to/inspect/).\n",
    "\n"
   ]
  },
  {
   "cell_type": "code",
   "execution_count": 24,
   "metadata": {
    "height": 863
   },
   "outputs": [],
   "source": [
    "def process_query(question):\n",
    "\t\n",
    "\t# Initialize the LLM\n",
    "\tllm = ChatOpenAI(model_name=\"gpt-3.5-turbo\", temperature=0)\n",
    "\n",
    "\t# Define a template for the QA\n",
    "\ttemplate = \"\"\"Use the following pieces of context to answer the question at the end. Provide a detailed, thorough response that:\n",
    "\t\t1. Answers the main question\n",
    "\t\t2. Provides relevant examples or details from the context\n",
    "\t\t3. Explains any important concepts mentioned\n",
    "\t\t4. If relevant, discusses implications or applications\n",
    "\n",
    "\t\tIf you don't know the answer, provide a detailed explanation of what aspects you're uncertain about and why.\n",
    "\n",
    "\t\t{context}\n",
    "\t\tQuestion: {question}\n",
    "\t\tDetailed Answer:\"\"\"\n",
    "\n",
    "\t### START CODE HERE ###\n",
    "\n",
    "\t# Instantiate a PromptTemplate using the template given\n",
    "\tprompt = PromptTemplate.from_template(template)\n",
    "\n",
    "\t# Use the as_retriever method to use the DATABASE as a retriever\n",
    "\tretriever = DATABASE.as_retriever()\n",
    "\t\n",
    "\t# Get the source documents by using the invoke method on the retriever and passing the question\n",
    "\tsource_documents = retriever.invoke(question)\n",
    "\n",
    "\t# Format the source documents using the format_docs helper function\n",
    "\tdoc_references = format_docs(source_documents)\n",
    "\n",
    "\t# Set up the QA chain\n",
    "\tqa_chain = ( \n",
    "\t# Use the retriever as context and a RunnablePassthrough as question\n",
    "\t{\"context\": retriever, \"question\": RunnablePassthrough()}\n",
    "\t# Pipe to the prompt\n",
    "\t| prompt\n",
    "\t# Pipe to the llm\n",
    "\t| llm\n",
    "\t# Pipe to the StrOutputParser\n",
    "\t| StrOutputParser()\n",
    "\t) \n",
    "\n",
    "\t# Get response from qa_chain by using the invoke method and passing the question\n",
    "\tllm_response = qa_chain.invoke(question)\n",
    "\n",
    "\t### END CODE HERE ###\n",
    "\n",
    "\treturn llm_response, doc_references"
   ]
  },
  {
   "cell_type": "code",
   "execution_count": 25,
   "metadata": {
    "height": 115
   },
   "outputs": [
    {
     "name": "stdout",
     "output_type": "stream",
     "text": [
      "### LLM Response #################\n",
      "\n",
      "Planting flowers involves several steps to ensure successful growth and blooming. Here are some key considerations based on the provided context:\n",
      "\n",
      "1. Soil Collection: Before planting flowers, it is essential to understand the soil composition of your garden. Collect soil samples from different areas of your garden, mix them in a bucket, and send them for analysis. The results will help you determine the amendments needed for optimal flower growth.\n",
      "\n",
      "2. Garden Planning: Create a layout of your garden on paper or using computer software. Consider the mature size of the flowers you intend to plant to avoid overcrowding or sparse arrangements. Professionals often collect data on plant growth each year to make informed decisions for future plantings.\n",
      "\n",
      "3. Crop Rotation: While primarily discussed in the context of vegetable gardening, crop rotation can also benefit flower gardens. By rotating different types of flowers in the same spot, you can reduce the risk of pests and diseases that target specific plant families.\n",
      "\n",
      "4. Succession Planting: Keep something in the ground at all times by understanding the maturation dates of your flowers. This practice involves planting new flowers as others finish blooming, ensuring a continuous display of blooms throughout the growing season.\n",
      "\n",
      "5. Preventative Measures: Take steps to prevent potential issues in your flower garden. Ensure your garden plot is level and well-drained to avoid waterlogging. Observe where weeds thrive as these areas may also support healthy flower growth.\n",
      "\n",
      "By following these steps and incorporating them into your gardening routine, you can plant flowers successfully and enjoy a vibrant and flourishing garden. Remember to provide regular care, including watering, fertilizing, and pest control, to support the growth and blooming of your flowers.\n",
      "\n",
      "### References ###################\n",
      "\n",
      "Result 1:\n",
      "3 Gardening is easy, right? All you do is measure some rows, till the earth, and plant your seeds. From there, your garden will grow on its while you sit back and relax... Right? Wrong. Like all worthwhile pursuits, gardening requires devotion and routine maintenance. Your heirloom tomatoes can indeed blossom from A all the way to Z, but they will need your help getting there, as you water and perhaps trellis them along their path to ripeness. Yes, the seeds you’ve sown today will need attention tomorrow.... And the tomorrow after that, all the way to harvest time. And before we can consider tomorrow’s work, we have to consider yesterday’s. PLANTING CONSIDERATIONS PREVENTATIVE MEASURES Often, the best way to solve a problem is by ensuring that it never happens. Of course, an incredible cook can salvage a cooking fiasco without the perfect ingredients or tools, but just imagine how much tastier the dish would be if all the right pieces had been in the kitchen all along. The same applies to gardening, where the earth is your kitchen. Here’s what you can do in the early stages of gardening to ensure that you don’t end up with a fiasco months down the road.\n",
      "\n",
      "Document: Technical-Gardening-Manual-FINAL.pdf\n",
      "Page: 3\n",
      "---\n",
      "Result 2:\n",
      "8 zucchini. The take-away here is that you want to make sure that during your next growing season, each piece of soil is occupied by a new family, even if pests and diseases did no damage in the previous season. Final Considerations: *Make sure your plot is level and well-drained. You could try to observe it before you plant and see how swampy it gets during rainy weather. Avoid planting in those spots if possible. *Another observation strategy is to look where the weeds are most sturdy and rich. This area will also be conducive to the thriving of your plants. *Always keep something in the ground! This is called succession planting and requires that you understand the maturation dates of your plants so that you know when you’ll be planting new crops. For more information on the maturation dates your plants, contact your extension agency!\n",
      "\n",
      "Document: Technical-Gardening-Manual-FINAL.pdf\n",
      "Page: 8\n",
      "---\n",
      "Result 3:\n",
      "7 Garden Planning - You will want to be certain that the layout of your garden makes sense based on your plants and locations, and this is a process that should be done on paper. (Of course, there is computer software out there, for those who are more technologically inclined!) Make sure that you understand what your different plants will look like once they fully mature. Otherwise, you might end up with a garden that is too sparse or too cluttered, both of which can be tough to maintain. And neither will be particularly pleasing to the eye. You might think that this is a technique that pros will eventually outgrow, but this is actually what pros will do from year-to-year, collecting data on how well each crop grew in its particular location and using it to make smart moves in the future. Crop Rotation- Crop rotation is a part of garden planning. It is a technique for minimizing future pest and disease issues. Essentially, your plants can be divided into types or families, and pests, bacteria, and fungi, which all can live in the soil season after season, usually gravitate towards particular families. If you rotate through planting different crop families in the same spot, however, you will remove the food source for these pests and diseases. For the sake of simplicity, we will focus on three families: brassacus, solanaceous, and cucurbits. Brassacus includes things like cabbage, kale, and mustard, and these plants share pests like flea beetles, harlequin bugs, and stink bugs\n",
      "\n",
      "Document: Technical-Gardening-Manual-FINAL.pdf\n",
      "Page: 7\n",
      "---\n",
      "Result 4:\n",
      "5 SOIL COLLECTION Depending on your extension agency, you might be able to collect the soil yourself and send it in. If you take this route, the best time to test is in October or November, leaving you time to make adjustments and plan for your spring garden. To collect the soil, you’ll need a trowel (or some other digging tool) and a bucket. You should dig out a hunk of soil about six inches deep. That hunk doesn’t really matter, so dump it somewhere. Now you’ll need to collect a profile slice of the dirt and toss it in the bucket. (This allows you to capture a picture of the whole root zone.) Repeat this process six more times throughout your garden and then mix all of those samples in your bucket. Finally, you can bag this concoction and ship it off for analysis. All you’ve got left to do is await the results and apply the recommended amendments. OTHER CONSIDERATIONS The results of your test will let you know what plants will naturally thrive in your garden, but that won’t be much of a hurdle with the right amendments. Other factors to consider when choosing the plants for your garden include: Seasonal Sensitivity - Some crops will thrive in the summer, while others can tolerate a little frost. (Other crops are perennials, which means you can plant them just once and harvest them yearly, or biennials, which take two years to grow.) Warm-season crops, which need high temperatures to make fruit, include corn, cucumbers, melons, peppers, snap beans, squash, and tomatoes\n",
      "\n",
      "Document: Technical-Gardening-Manual-FINAL.pdf\n",
      "Page: 5\n"
     ]
    }
   ],
   "source": [
    "question = \"How can I plant flowers?\"\n",
    "\n",
    "llm_response, doc_references = process_query(question)\n",
    "\n",
    "print(f\"### LLM Response #################\\n\\n{llm_response}\\n\")\n",
    "print(f\"### References ###################\\n\\n{doc_references}\")"
   ]
  },
  {
   "cell_type": "markdown",
   "metadata": {},
   "source": [
    "## Gradio User Interface\n",
    "\n",
    "This cell creates an interactive Gradio interface for you to interact with the Q&A Assistant. The interface allows users to ask questions and receive detailed answers along with source document references.\n",
    "\n",
    "### Key Features:\n",
    "- **Input Section**: A textbox for entering questions, with a \"Submit Question\" button for submission.\n",
    "- **Tabs for Output**:\n",
    "  - **AI Response**: Displays the detailed answer generated by the AI.\n",
    "  - **Document References**: Shows the source documents referenced in the response.\n",
    "- **Interactivity**:\n",
    "  - The \"Submit Question\" button triggers the `process_query` function to process the input and display the results.\n",
    "  - Pressing \"Enter\" in the question textbox also submits the question.\n",
    "\n",
    "This user-friendly interface enables interaction with the QA chatbot in a structured and visually organized way.\n"
   ]
  },
  {
   "cell_type": "code",
   "execution_count": 27,
   "metadata": {
    "height": 761
   },
   "outputs": [
    {
     "name": "stderr",
     "output_type": "stream",
     "text": [
      "/usr/local/lib/python3.11/site-packages/gradio/analytics.py:106: UserWarning: IMPORTANT: You are using gradio version 4.43.0, however version 4.44.1 is available, please upgrade. \n",
      "--------\n",
      "  warnings.warn(\n"
     ]
    }
   ],
   "source": [
    "with gr.Blocks(theme=gr.themes.Monochrome()) as iface:\n",
    "    gr.Markdown(\n",
    "        \"\"\"\n",
    "        # 📚 DAG Scripts Q&A Assistant\n",
    "        Ask any question about the DAG C1 & C2 content and get detailed answers with source references.\n",
    "        \"\"\"\n",
    "    )\n",
    "\n",
    "    with gr.Column():\n",
    "        gr.Markdown(\"### Your Question\")\n",
    "        question_input = gr.Textbox(\n",
    "            lines=3,\n",
    "            placeholder=\"Enter your question here...\",\n",
    "            label=\"\",  # Removed the label since we're using Markdown\n",
    "        )\n",
    "        submit_btn = gr.Button(\"Submit Question\", variant=\"primary\", size=\"lg\")\n",
    "\n",
    "    with gr.Tabs():\n",
    "        with gr.TabItem(\"📝 Response\"):\n",
    "            gr.Markdown(\"### AI Response\")\n",
    "            response_output = gr.Textbox(\n",
    "                lines=15,\n",
    "                label=\"\",  # Removed the label since we're using Markdown\n",
    "                show_copy_button=True,\n",
    "            )\n",
    "        with gr.TabItem(\"🔍 Document References\"):\n",
    "            gr.Markdown(\"### Source Documents\")\n",
    "            references_output = gr.Textbox(\n",
    "                lines=15,\n",
    "                label=\"\",  # Removed the label since we're using Markdown\n",
    "                show_copy_button=True,\n",
    "            )\n",
    "\n",
    "    # Add submit button click event and enter key functionality\n",
    "    submit_btn.click(\n",
    "        fn=process_query,\n",
    "        inputs=[question_input],\n",
    "        outputs=[response_output, references_output],\n",
    "    )\n",
    "    question_input.submit(\n",
    "        fn=process_query,\n",
    "        inputs=[question_input],\n",
    "        outputs=[response_output, references_output],\n",
    "    )"
   ]
  },
  {
   "cell_type": "code",
   "execution_count": 28,
   "metadata": {
    "height": 98
   },
   "outputs": [
    {
     "name": "stdout",
     "output_type": "stream",
     "text": [
      "Running on local URL:  https://0.0.0.0:7860\n",
      "\n",
      "To create a public link, set `share=True` in `launch()`.\n"
     ]
    },
    {
     "data": {
      "text/html": [
       "<div><iframe src=\"https://s172-29-18-3p7860.lab-aws-production.deeplearning.ai/\" width=\"100%\" height=\"500\" allow=\"autoplay; camera; microphone; clipboard-read; clipboard-write;\" frameborder=\"0\" allowfullscreen></iframe></div>"
      ],
      "text/plain": [
       "<IPython.core.display.HTML object>"
      ]
     },
     "metadata": {},
     "output_type": "display_data"
    },
    {
     "data": {
      "text/plain": []
     },
     "execution_count": 28,
     "metadata": {},
     "output_type": "execute_result"
    }
   ],
   "source": [
    "# Close the server (in case you run this cell multiple times)\n",
    "iface.close()\n",
    "\n",
    "# Spin up the gradio app\n",
    "iface.launch(server_name=\"0.0.0.0\", share=False)"
   ]
  }
 ],
 "metadata": {
  "kernelspec": {
   "display_name": "Python 3 (ipykernel)",
   "language": "python",
   "name": "python3"
  },
  "language_info": {
   "codemirror_mode": {
    "name": "ipython",
    "version": 3
   },
   "file_extension": ".py",
   "mimetype": "text/x-python",
   "name": "python",
   "nbconvert_exporter": "python",
   "pygments_lexer": "ipython3",
   "version": "3.11.9"
  }
 },
 "nbformat": 4,
 "nbformat_minor": 2
}
